{
 "cells": [
  {
   "cell_type": "markdown",
   "id": "fa808c53",
   "metadata": {},
   "source": [
    "## Age and Gender Recognition"
   ]
  },
  {
   "cell_type": "markdown",
   "id": "d6d95bad",
   "metadata": {},
   "source": [
    "### Using Deepface to identify age , gender , race and emotional state of a person"
   ]
  },
  {
   "cell_type": "code",
   "execution_count": 9,
   "id": "541a29b9",
   "metadata": {},
   "outputs": [
    {
     "name": "stdout",
     "output_type": "stream",
     "text": [
      "WARNING:tensorflow:From c:\\Users\\User\\AppData\\Local\\Programs\\Python\\Python311\\Lib\\site-packages\\tf_keras\\src\\losses.py:2976: The name tf.losses.sparse_softmax_cross_entropy is deprecated. Please use tf.compat.v1.losses.sparse_softmax_cross_entropy instead.\n",
      "\n",
      "25-04-11 09:40:55 - Directory C:\\Users\\User\\.deepface has been created\n",
      "25-04-11 09:40:55 - Directory C:\\Users\\User\\.deepface\\weights has been created\n"
     ]
    }
   ],
   "source": [
    "import cv2\n",
    "from deepface import DeepFace "
   ]
  },
  {
   "cell_type": "code",
   "execution_count": null,
   "id": "61200660",
   "metadata": {},
   "outputs": [],
   "source": []
  },
  {
   "cell_type": "code",
   "execution_count": null,
   "id": "a4e33291",
   "metadata": {},
   "outputs": [
    {
     "name": "stderr",
     "output_type": "stream",
     "text": [
      "Action: age: 100%|██████████| 4/4 [00:01<00:00,  3.32it/s]   \n"
     ]
    }
   ],
   "source": [
    "img =  cv2.imread(\"\")\n",
    "results = DeepFace.analyze(img,actions = ('emotion','gender','race','age'),detector_backend='retinaface')"
   ]
  },
  {
   "cell_type": "code",
   "execution_count": null,
   "id": "199f3689",
   "metadata": {},
   "outputs": [
    {
     "name": "stdout",
     "output_type": "stream",
     "text": [
      "[{'emotion': {'angry': 5.132163114836761e-16, 'disgust': 8.764389583233756e-27, 'fear': 9.115655461402014e-17, 'happy': 100.0, 'sad': 2.4667363963080946e-11, 'surprise': 1.4315030516526312e-16, 'neutral': 6.031618315915921e-07}, 'dominant_emotion': 'happy', 'region': {'x': 362, 'y': 354, 'w': 290, 'h': 368, 'left_eye': (586, 508), 'right_eye': (450, 492)}, 'face_confidence': 1.0, 'gender': {'Woman': 58.92355442047119, 'Man': 41.07644259929657}, 'dominant_gender': 'Woman', 'race': {'asian': 71.18591413665841, 'indian': 10.512610761808066, 'black': 1.6536559800915742, 'white': 1.0623803958439355, 'middle eastern': 0.12653033137704953, 'latino hispanic': 15.458906834255835}, 'dominant_race': 'asian', 'age': 43}]\n"
     ]
    }
   ],
   "source": []
  },
  {
   "cell_type": "code",
   "execution_count": 49,
   "id": "2182bc5e",
   "metadata": {},
   "outputs": [
    {
     "name": "stdout",
     "output_type": "stream",
     "text": [
      "happy\n",
      "Woman\n",
      "asian\n",
      "43\n"
     ]
    }
   ],
   "source": [
    "emotion = results[0]['dominant_emotion']\n",
    "gender = results[0]['dominant_gender']\n",
    "race = results[0]['dominant_race']\n",
    "age  = results[0]['age']\n",
    "\n",
    "print(emotion)\n",
    "print(gender)\n",
    "print(race)\n",
    "print(age)\n"
   ]
  },
  {
   "cell_type": "code",
   "execution_count": null,
   "id": "0bd42d76",
   "metadata": {},
   "outputs": [],
   "source": []
  }
 ],
 "metadata": {
  "kernelspec": {
   "display_name": "Python 3",
   "language": "python",
   "name": "python3"
  },
  "language_info": {
   "codemirror_mode": {
    "name": "ipython",
    "version": 3
   },
   "file_extension": ".py",
   "mimetype": "text/x-python",
   "name": "python",
   "nbconvert_exporter": "python",
   "pygments_lexer": "ipython3",
   "version": "3.11.9"
  }
 },
 "nbformat": 4,
 "nbformat_minor": 5
}
